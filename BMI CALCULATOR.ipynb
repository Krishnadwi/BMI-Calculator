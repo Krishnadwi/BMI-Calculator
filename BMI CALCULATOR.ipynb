{
 "cells": [
  {
   "cell_type": "markdown",
   "id": "b749b218",
   "metadata": {},
   "source": []
  },
  {
   "cell_type": "code",
   "execution_count": null,
   "id": "65d1d9b7",
   "metadata": {},
   "outputs": [],
   "source": [
    "name= input(\"Enter your Name :\")\n",
    "weight= int(input(\"Enter your weight in pounds:\"))\n",
    "height= int(input(\"Enter your height in inches:\"))\n",
    "BMI = (weight  * 703) / (height  * height )\n",
    "if BMI>0:\n",
    "    if(BMI<18.5):\n",
    "        print(name+\",You are under weight\")\n",
    "    elif(BMI>=18.5 and BMI<=24.9):\n",
    "        print(name+\",You are normal weight\")\n",
    "    elif(BMI>=25 and BMI<=29.9):\n",
    "        print(name+\",You are overweight \")\n",
    "    elif(BMI>=30 and BMI<=34.9):\n",
    "        print(name+\",You are obese\")\n",
    "    elif(BMI>=35 and BMI<=39.9):\n",
    "        print(name+\",You are severely obese\")\n",
    "    elif(BMI>40):\n",
    "        print(name+\",You are Morbidly Obese\")\n",
    "else:\n",
    "    print(name+\"Enter valid input:\")\n"
   ]
  },
  {
   "cell_type": "code",
   "execution_count": null,
   "id": "bae2269f",
   "metadata": {},
   "outputs": [],
   "source": []
  },
  {
   "cell_type": "code",
   "execution_count": null,
   "id": "3b214e47",
   "metadata": {},
   "outputs": [],
   "source": []
  },
  {
   "cell_type": "code",
   "execution_count": null,
   "id": "47842e4b",
   "metadata": {},
   "outputs": [],
   "source": []
  },
  {
   "cell_type": "code",
   "execution_count": null,
   "id": "f00792b7",
   "metadata": {},
   "outputs": [],
   "source": []
  },
  {
   "cell_type": "code",
   "execution_count": null,
   "id": "3fc80098",
   "metadata": {},
   "outputs": [],
   "source": []
  },
  {
   "cell_type": "code",
   "execution_count": null,
   "id": "949bc722",
   "metadata": {},
   "outputs": [],
   "source": [
    "\n",
    "        \n",
    "    \n",
    "    "
   ]
  },
  {
   "cell_type": "code",
   "execution_count": null,
   "id": "7c70263b",
   "metadata": {},
   "outputs": [],
   "source": []
  }
 ],
 "metadata": {
  "kernelspec": {
   "display_name": "Python 3 (ipykernel)",
   "language": "python",
   "name": "python3"
  },
  "language_info": {
   "codemirror_mode": {
    "name": "ipython",
    "version": 3
   },
   "file_extension": ".py",
   "mimetype": "text/x-python",
   "name": "python",
   "nbconvert_exporter": "python",
   "pygments_lexer": "ipython3",
   "version": "3.9.13"
  }
 },
 "nbformat": 4,
 "nbformat_minor": 5
}
